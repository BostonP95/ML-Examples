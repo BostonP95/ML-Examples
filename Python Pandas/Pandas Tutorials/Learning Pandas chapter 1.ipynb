{
 "cells": [
  {
   "cell_type": "code",
   "execution_count": 1,
   "metadata": {
    "collapsed": true
   },
   "outputs": [],
   "source": [
    "# setting up the enviroment\n",
    "\n",
    "import pandas as pd\n",
    "import numpy as np\n",
    "import matplotlib.pyplot as plt\n",
    "% matplotlib inline "
   ]
  },
  {
   "cell_type": "code",
   "execution_count": 9,
   "metadata": {
    "collapsed": false
   },
   "outputs": [
    {
     "name": "stderr",
     "output_type": "stream",
     "text": [
      "C:\\Users\\Boston\\Anaconda3a\\lib\\site-packages\\IPython\\core\\interactiveshell.py:2717: DtypeWarning: Columns (7,8,18,25) have mixed types. Specify dtype option on import or set low_memory=False.\n",
      "  interactivity=interactivity, compiler=compiler, result=result)\n"
     ]
    },
    {
     "data": {
      "text/html": [
       "<div>\n",
       "<table border=\"1\" class=\"dataframe\">\n",
       "  <thead>\n",
       "    <tr style=\"text-align: right;\">\n",
       "      <th></th>\n",
       "      <th>STA</th>\n",
       "      <th>Date</th>\n",
       "      <th>Precip</th>\n",
       "      <th>WindGustSpd</th>\n",
       "      <th>MaxTemp</th>\n",
       "      <th>MinTemp</th>\n",
       "      <th>MeanTemp</th>\n",
       "      <th>Snowfall</th>\n",
       "      <th>PoorWeather</th>\n",
       "      <th>YR</th>\n",
       "      <th>...</th>\n",
       "      <th>FB</th>\n",
       "      <th>FTI</th>\n",
       "      <th>ITH</th>\n",
       "      <th>PGT</th>\n",
       "      <th>TSHDSBRSGF</th>\n",
       "      <th>SD3</th>\n",
       "      <th>RHX</th>\n",
       "      <th>RHN</th>\n",
       "      <th>RVG</th>\n",
       "      <th>WTE</th>\n",
       "    </tr>\n",
       "  </thead>\n",
       "  <tbody>\n",
       "    <tr>\n",
       "      <th>0</th>\n",
       "      <td>10001</td>\n",
       "      <td>1942-7-1</td>\n",
       "      <td>1.016</td>\n",
       "      <td>NaN</td>\n",
       "      <td>25.555556</td>\n",
       "      <td>22.222222</td>\n",
       "      <td>23.888889</td>\n",
       "      <td>0</td>\n",
       "      <td>NaN</td>\n",
       "      <td>42</td>\n",
       "      <td>...</td>\n",
       "      <td>NaN</td>\n",
       "      <td>NaN</td>\n",
       "      <td>NaN</td>\n",
       "      <td>NaN</td>\n",
       "      <td>NaN</td>\n",
       "      <td>NaN</td>\n",
       "      <td>NaN</td>\n",
       "      <td>NaN</td>\n",
       "      <td>NaN</td>\n",
       "      <td>NaN</td>\n",
       "    </tr>\n",
       "    <tr>\n",
       "      <th>1</th>\n",
       "      <td>10001</td>\n",
       "      <td>1942-7-2</td>\n",
       "      <td>0</td>\n",
       "      <td>NaN</td>\n",
       "      <td>28.888889</td>\n",
       "      <td>21.666667</td>\n",
       "      <td>25.555556</td>\n",
       "      <td>0</td>\n",
       "      <td>NaN</td>\n",
       "      <td>42</td>\n",
       "      <td>...</td>\n",
       "      <td>NaN</td>\n",
       "      <td>NaN</td>\n",
       "      <td>NaN</td>\n",
       "      <td>NaN</td>\n",
       "      <td>NaN</td>\n",
       "      <td>NaN</td>\n",
       "      <td>NaN</td>\n",
       "      <td>NaN</td>\n",
       "      <td>NaN</td>\n",
       "      <td>NaN</td>\n",
       "    </tr>\n",
       "    <tr>\n",
       "      <th>2</th>\n",
       "      <td>10001</td>\n",
       "      <td>1942-7-3</td>\n",
       "      <td>2.54</td>\n",
       "      <td>NaN</td>\n",
       "      <td>26.111111</td>\n",
       "      <td>22.222222</td>\n",
       "      <td>24.444444</td>\n",
       "      <td>0</td>\n",
       "      <td>NaN</td>\n",
       "      <td>42</td>\n",
       "      <td>...</td>\n",
       "      <td>NaN</td>\n",
       "      <td>NaN</td>\n",
       "      <td>NaN</td>\n",
       "      <td>NaN</td>\n",
       "      <td>NaN</td>\n",
       "      <td>NaN</td>\n",
       "      <td>NaN</td>\n",
       "      <td>NaN</td>\n",
       "      <td>NaN</td>\n",
       "      <td>NaN</td>\n",
       "    </tr>\n",
       "    <tr>\n",
       "      <th>3</th>\n",
       "      <td>10001</td>\n",
       "      <td>1942-7-4</td>\n",
       "      <td>2.54</td>\n",
       "      <td>NaN</td>\n",
       "      <td>26.666667</td>\n",
       "      <td>22.222222</td>\n",
       "      <td>24.444444</td>\n",
       "      <td>0</td>\n",
       "      <td>NaN</td>\n",
       "      <td>42</td>\n",
       "      <td>...</td>\n",
       "      <td>NaN</td>\n",
       "      <td>NaN</td>\n",
       "      <td>NaN</td>\n",
       "      <td>NaN</td>\n",
       "      <td>NaN</td>\n",
       "      <td>NaN</td>\n",
       "      <td>NaN</td>\n",
       "      <td>NaN</td>\n",
       "      <td>NaN</td>\n",
       "      <td>NaN</td>\n",
       "    </tr>\n",
       "    <tr>\n",
       "      <th>4</th>\n",
       "      <td>10001</td>\n",
       "      <td>1942-7-5</td>\n",
       "      <td>0</td>\n",
       "      <td>NaN</td>\n",
       "      <td>26.666667</td>\n",
       "      <td>21.666667</td>\n",
       "      <td>24.444444</td>\n",
       "      <td>0</td>\n",
       "      <td>NaN</td>\n",
       "      <td>42</td>\n",
       "      <td>...</td>\n",
       "      <td>NaN</td>\n",
       "      <td>NaN</td>\n",
       "      <td>NaN</td>\n",
       "      <td>NaN</td>\n",
       "      <td>NaN</td>\n",
       "      <td>NaN</td>\n",
       "      <td>NaN</td>\n",
       "      <td>NaN</td>\n",
       "      <td>NaN</td>\n",
       "      <td>NaN</td>\n",
       "    </tr>\n",
       "  </tbody>\n",
       "</table>\n",
       "<p>5 rows × 31 columns</p>\n",
       "</div>"
      ],
      "text/plain": [
       "     STA      Date Precip  WindGustSpd    MaxTemp    MinTemp   MeanTemp  \\\n",
       "0  10001  1942-7-1  1.016          NaN  25.555556  22.222222  23.888889   \n",
       "1  10001  1942-7-2      0          NaN  28.888889  21.666667  25.555556   \n",
       "2  10001  1942-7-3   2.54          NaN  26.111111  22.222222  24.444444   \n",
       "3  10001  1942-7-4   2.54          NaN  26.666667  22.222222  24.444444   \n",
       "4  10001  1942-7-5      0          NaN  26.666667  21.666667  24.444444   \n",
       "\n",
       "  Snowfall PoorWeather  YR ...   FB  FTI ITH  PGT  TSHDSBRSGF  SD3  RHX  RHN  \\\n",
       "0        0         NaN  42 ...  NaN  NaN NaN  NaN         NaN  NaN  NaN  NaN   \n",
       "1        0         NaN  42 ...  NaN  NaN NaN  NaN         NaN  NaN  NaN  NaN   \n",
       "2        0         NaN  42 ...  NaN  NaN NaN  NaN         NaN  NaN  NaN  NaN   \n",
       "3        0         NaN  42 ...  NaN  NaN NaN  NaN         NaN  NaN  NaN  NaN   \n",
       "4        0         NaN  42 ...  NaN  NaN NaN  NaN         NaN  NaN  NaN  NaN   \n",
       "\n",
       "  RVG  WTE  \n",
       "0 NaN  NaN  \n",
       "1 NaN  NaN  \n",
       "2 NaN  NaN  \n",
       "3 NaN  NaN  \n",
       "4 NaN  NaN  \n",
       "\n",
       "[5 rows x 31 columns]"
      ]
     },
     "execution_count": 9,
     "metadata": {},
     "output_type": "execute_result"
    }
   ],
   "source": [
    "# displaying the data\n",
    "\n",
    "weather_data= pd.read_csv(\"C:/Users/Boston/Documents/weatherww2/SummaryofWeather.csv\")\n",
    "weather_data.head()\n",
    "\n"
   ]
  },
  {
   "cell_type": "code",
   "execution_count": 11,
   "metadata": {
    "collapsed": false
   },
   "outputs": [
    {
     "data": {
      "text/plain": [
       "RangeIndex(start=0, stop=119040, step=1)"
      ]
     },
     "execution_count": 11,
     "metadata": {},
     "output_type": "execute_result"
    }
   ],
   "source": [
    "# checking indexs\n",
    "\n",
    "index = weather_data.index\n",
    "index"
   ]
  },
  {
   "cell_type": "code",
   "execution_count": 13,
   "metadata": {
    "collapsed": false
   },
   "outputs": [
    {
     "data": {
      "text/plain": [
       "Index(['STA', 'Date', 'Precip', 'WindGustSpd', 'MaxTemp', 'MinTemp',\n",
       "       'MeanTemp', 'Snowfall', 'PoorWeather', 'YR', 'MO', 'DA', 'PRCP', 'DR',\n",
       "       'SPD', 'MAX', 'MIN', 'MEA', 'SNF', 'SND', 'FT', 'FB', 'FTI', 'ITH',\n",
       "       'PGT', 'TSHDSBRSGF', 'SD3', 'RHX', 'RHN', 'RVG', 'WTE'],\n",
       "      dtype='object')"
      ]
     },
     "execution_count": 13,
     "metadata": {},
     "output_type": "execute_result"
    }
   ],
   "source": [
    "# checking columns\n",
    "\n",
    "columns = movie.columns\n",
    "columns"
   ]
  },
  {
   "cell_type": "code",
   "execution_count": 16,
   "metadata": {
    "collapsed": false
   },
   "outputs": [
    {
     "data": {
      "text/plain": [
       "array([[10001, '1942-7-1', '1.016', ..., nan, nan, nan],\n",
       "       [10001, '1942-7-2', '0', ..., nan, nan, nan],\n",
       "       [10001, '1942-7-3', '2.54', ..., nan, nan, nan],\n",
       "       ...,\n",
       "       [82506, '1945-12-29', '0', ..., nan, nan, nan],\n",
       "       [82506, '1945-12-30', '0', ..., nan, nan, nan],\n",
       "       [82506, '1945-12-31', '0', ..., nan, nan, nan]], dtype=object)"
      ]
     },
     "execution_count": 16,
     "metadata": {},
     "output_type": "execute_result"
    }
   ],
   "source": [
    "data = weather_data.values\n",
    "data"
   ]
  },
  {
   "cell_type": "code",
   "execution_count": 17,
   "metadata": {
    "collapsed": false
   },
   "outputs": [
    {
     "data": {
      "text/plain": [
       "pandas.indexes.range.RangeIndex"
      ]
     },
     "execution_count": 17,
     "metadata": {},
     "output_type": "execute_result"
    }
   ],
   "source": [
    "type(index)\n"
   ]
  },
  {
   "cell_type": "code",
   "execution_count": 18,
   "metadata": {
    "collapsed": false
   },
   "outputs": [
    {
     "data": {
      "text/plain": [
       "pandas.indexes.base.Index"
      ]
     },
     "execution_count": 18,
     "metadata": {},
     "output_type": "execute_result"
    }
   ],
   "source": [
    "type(columns)"
   ]
  },
  {
   "cell_type": "code",
   "execution_count": 19,
   "metadata": {
    "collapsed": false
   },
   "outputs": [
    {
     "data": {
      "text/plain": [
       "numpy.ndarray"
      ]
     },
     "execution_count": 19,
     "metadata": {},
     "output_type": "execute_result"
    }
   ],
   "source": [
    "type(data)"
   ]
  },
  {
   "cell_type": "code",
   "execution_count": 21,
   "metadata": {
    "collapsed": false
   },
   "outputs": [
    {
     "data": {
      "text/plain": [
       "True"
      ]
     },
     "execution_count": 21,
     "metadata": {},
     "output_type": "execute_result"
    }
   ],
   "source": [
    "issubclass(pd.RangeIndex,pd.Index)"
   ]
  },
  {
   "cell_type": "code",
   "execution_count": 23,
   "metadata": {
    "collapsed": false
   },
   "outputs": [
    {
     "data": {
      "text/plain": [
       "array(['STA', 'Date', 'Precip', 'WindGustSpd', 'MaxTemp', 'MinTemp',\n",
       "       'MeanTemp', 'Snowfall', 'PoorWeather', 'YR', 'MO', 'DA', 'PRCP',\n",
       "       'DR', 'SPD', 'MAX', 'MIN', 'MEA', 'SNF', 'SND', 'FT', 'FB', 'FTI',\n",
       "       'ITH', 'PGT', 'TSHDSBRSGF', 'SD3', 'RHX', 'RHN', 'RVG', 'WTE'],\n",
       "      dtype=object)"
      ]
     },
     "execution_count": 23,
     "metadata": {},
     "output_type": "execute_result"
    }
   ],
   "source": [
    "# numpy arrays are highly related to pandas for instance are both  numpy arrays\n",
    "\n",
    "index.values\n",
    "columns.values"
   ]
  },
  {
   "cell_type": "code",
   "execution_count": 25,
   "metadata": {
    "collapsed": false
   },
   "outputs": [
    {
     "data": {
      "text/plain": [
       "STA              int64\n",
       "Date            object\n",
       "Precip          object\n",
       "WindGustSpd    float64\n",
       "MaxTemp        float64\n",
       "MinTemp        float64\n",
       "MeanTemp       float64\n",
       "Snowfall        object\n",
       "PoorWeather     object\n",
       "YR               int64\n",
       "MO               int64\n",
       "DA               int64\n",
       "PRCP            object\n",
       "DR             float64\n",
       "SPD            float64\n",
       "MAX            float64\n",
       "MIN            float64\n",
       "MEA            float64\n",
       "SNF             object\n",
       "SND            float64\n",
       "FT             float64\n",
       "FB             float64\n",
       "FTI            float64\n",
       "ITH            float64\n",
       "PGT            float64\n",
       "TSHDSBRSGF      object\n",
       "SD3            float64\n",
       "RHX            float64\n",
       "RHN            float64\n",
       "RVG            float64\n",
       "WTE            float64\n",
       "dtype: object"
      ]
     },
     "execution_count": 25,
     "metadata": {},
     "output_type": "execute_result"
    }
   ],
   "source": [
    "#this tells us the data type of each column\n",
    "\n",
    "weather_data.dtypes"
   ]
  },
  {
   "cell_type": "code",
   "execution_count": 26,
   "metadata": {
    "collapsed": false
   },
   "outputs": [
    {
     "data": {
      "text/plain": [
       "float64    20\n",
       "int64       4\n",
       "object      7\n",
       "dtype: int64"
      ]
     },
     "execution_count": 26,
     "metadata": {},
     "output_type": "execute_result"
    }
   ],
   "source": [
    "weather_data.get_dtype_counts()"
   ]
  },
  {
   "cell_type": "markdown",
   "metadata": {},
   "source": [
    "# Selecting a single column / Series"
   ]
  },
  {
   "cell_type": "code",
   "execution_count": 27,
   "metadata": {
    "collapsed": false
   },
   "outputs": [
    {
     "data": {
      "text/plain": [
       "0           1942-7-1\n",
       "1           1942-7-2\n",
       "2           1942-7-3\n",
       "3           1942-7-4\n",
       "4           1942-7-5\n",
       "5           1942-7-6\n",
       "6           1942-7-7\n",
       "7           1942-7-8\n",
       "8           1942-7-9\n",
       "9          1942-7-10\n",
       "10         1942-7-11\n",
       "11         1942-7-12\n",
       "12         1942-7-13\n",
       "13         1942-7-14\n",
       "14         1942-7-15\n",
       "15         1942-7-16\n",
       "16         1942-7-17\n",
       "17         1942-7-18\n",
       "18         1942-7-19\n",
       "19         1942-7-20\n",
       "20         1942-7-21\n",
       "21         1942-7-22\n",
       "22         1942-7-23\n",
       "23         1942-7-24\n",
       "24         1942-7-25\n",
       "25         1942-7-26\n",
       "26         1942-7-27\n",
       "27         1942-7-28\n",
       "28         1942-7-29\n",
       "29         1942-7-30\n",
       "             ...    \n",
       "119010     1945-12-2\n",
       "119011     1945-12-3\n",
       "119012     1945-12-4\n",
       "119013     1945-12-5\n",
       "119014     1945-12-6\n",
       "119015     1945-12-7\n",
       "119016     1945-12-8\n",
       "119017     1945-12-9\n",
       "119018    1945-12-10\n",
       "119019    1945-12-11\n",
       "119020    1945-12-12\n",
       "119021    1945-12-13\n",
       "119022    1945-12-14\n",
       "119023    1945-12-15\n",
       "119024    1945-12-16\n",
       "119025    1945-12-17\n",
       "119026    1945-12-18\n",
       "119027    1945-12-19\n",
       "119028    1945-12-20\n",
       "119029    1945-12-21\n",
       "119030    1945-12-22\n",
       "119031    1945-12-23\n",
       "119032    1945-12-24\n",
       "119033    1945-12-25\n",
       "119034    1945-12-26\n",
       "119035    1945-12-27\n",
       "119036    1945-12-28\n",
       "119037    1945-12-29\n",
       "119038    1945-12-30\n",
       "119039    1945-12-31\n",
       "Name: Date, dtype: object"
      ]
     },
     "execution_count": 27,
     "metadata": {},
     "output_type": "execute_result"
    }
   ],
   "source": [
    "# method 1\n",
    "\n",
    "weather_data['Date']"
   ]
  },
  {
   "cell_type": "code",
   "execution_count": 28,
   "metadata": {
    "collapsed": false
   },
   "outputs": [
    {
     "data": {
      "text/plain": [
       "0           1942-7-1\n",
       "1           1942-7-2\n",
       "2           1942-7-3\n",
       "3           1942-7-4\n",
       "4           1942-7-5\n",
       "5           1942-7-6\n",
       "6           1942-7-7\n",
       "7           1942-7-8\n",
       "8           1942-7-9\n",
       "9          1942-7-10\n",
       "10         1942-7-11\n",
       "11         1942-7-12\n",
       "12         1942-7-13\n",
       "13         1942-7-14\n",
       "14         1942-7-15\n",
       "15         1942-7-16\n",
       "16         1942-7-17\n",
       "17         1942-7-18\n",
       "18         1942-7-19\n",
       "19         1942-7-20\n",
       "20         1942-7-21\n",
       "21         1942-7-22\n",
       "22         1942-7-23\n",
       "23         1942-7-24\n",
       "24         1942-7-25\n",
       "25         1942-7-26\n",
       "26         1942-7-27\n",
       "27         1942-7-28\n",
       "28         1942-7-29\n",
       "29         1942-7-30\n",
       "             ...    \n",
       "119010     1945-12-2\n",
       "119011     1945-12-3\n",
       "119012     1945-12-4\n",
       "119013     1945-12-5\n",
       "119014     1945-12-6\n",
       "119015     1945-12-7\n",
       "119016     1945-12-8\n",
       "119017     1945-12-9\n",
       "119018    1945-12-10\n",
       "119019    1945-12-11\n",
       "119020    1945-12-12\n",
       "119021    1945-12-13\n",
       "119022    1945-12-14\n",
       "119023    1945-12-15\n",
       "119024    1945-12-16\n",
       "119025    1945-12-17\n",
       "119026    1945-12-18\n",
       "119027    1945-12-19\n",
       "119028    1945-12-20\n",
       "119029    1945-12-21\n",
       "119030    1945-12-22\n",
       "119031    1945-12-23\n",
       "119032    1945-12-24\n",
       "119033    1945-12-25\n",
       "119034    1945-12-26\n",
       "119035    1945-12-27\n",
       "119036    1945-12-28\n",
       "119037    1945-12-29\n",
       "119038    1945-12-30\n",
       "119039    1945-12-31\n",
       "Name: Date, dtype: object"
      ]
     },
     "execution_count": 28,
     "metadata": {},
     "output_type": "execute_result"
    }
   ],
   "source": [
    "# method 2\n",
    "\n",
    "weather_data.Date"
   ]
  },
  {
   "cell_type": "code",
   "execution_count": 29,
   "metadata": {
    "collapsed": false
   },
   "outputs": [
    {
     "data": {
      "text/plain": [
       "pandas.core.series.Series"
      ]
     },
     "execution_count": 29,
     "metadata": {},
     "output_type": "execute_result"
    }
   ],
   "source": [
    "type(weather_data.Date) # dot notation is prone to error and missuse , cannot handle special characters or spaces"
   ]
  },
  {
   "cell_type": "code",
   "execution_count": 31,
   "metadata": {
    "collapsed": false
   },
   "outputs": [
    {
     "data": {
      "text/plain": [
       "'Date'"
      ]
     },
     "execution_count": 31,
     "metadata": {},
     "output_type": "execute_result"
    }
   ],
   "source": [
    "date = weather_data[\"Date\"]\n",
    "date.name"
   ]
  },
  {
   "cell_type": "code",
   "execution_count": 32,
   "metadata": {
    "collapsed": false
   },
   "outputs": [
    {
     "data": {
      "text/html": [
       "<div>\n",
       "<table border=\"1\" class=\"dataframe\">\n",
       "  <thead>\n",
       "    <tr style=\"text-align: right;\">\n",
       "      <th></th>\n",
       "      <th>Date</th>\n",
       "    </tr>\n",
       "  </thead>\n",
       "  <tbody>\n",
       "    <tr>\n",
       "      <th>0</th>\n",
       "      <td>1942-7-1</td>\n",
       "    </tr>\n",
       "    <tr>\n",
       "      <th>1</th>\n",
       "      <td>1942-7-2</td>\n",
       "    </tr>\n",
       "    <tr>\n",
       "      <th>2</th>\n",
       "      <td>1942-7-3</td>\n",
       "    </tr>\n",
       "    <tr>\n",
       "      <th>3</th>\n",
       "      <td>1942-7-4</td>\n",
       "    </tr>\n",
       "    <tr>\n",
       "      <th>4</th>\n",
       "      <td>1942-7-5</td>\n",
       "    </tr>\n",
       "    <tr>\n",
       "      <th>5</th>\n",
       "      <td>1942-7-6</td>\n",
       "    </tr>\n",
       "    <tr>\n",
       "      <th>6</th>\n",
       "      <td>1942-7-7</td>\n",
       "    </tr>\n",
       "    <tr>\n",
       "      <th>7</th>\n",
       "      <td>1942-7-8</td>\n",
       "    </tr>\n",
       "    <tr>\n",
       "      <th>8</th>\n",
       "      <td>1942-7-9</td>\n",
       "    </tr>\n",
       "    <tr>\n",
       "      <th>9</th>\n",
       "      <td>1942-7-10</td>\n",
       "    </tr>\n",
       "    <tr>\n",
       "      <th>10</th>\n",
       "      <td>1942-7-11</td>\n",
       "    </tr>\n",
       "    <tr>\n",
       "      <th>11</th>\n",
       "      <td>1942-7-12</td>\n",
       "    </tr>\n",
       "    <tr>\n",
       "      <th>12</th>\n",
       "      <td>1942-7-13</td>\n",
       "    </tr>\n",
       "    <tr>\n",
       "      <th>13</th>\n",
       "      <td>1942-7-14</td>\n",
       "    </tr>\n",
       "    <tr>\n",
       "      <th>14</th>\n",
       "      <td>1942-7-15</td>\n",
       "    </tr>\n",
       "    <tr>\n",
       "      <th>15</th>\n",
       "      <td>1942-7-16</td>\n",
       "    </tr>\n",
       "    <tr>\n",
       "      <th>16</th>\n",
       "      <td>1942-7-17</td>\n",
       "    </tr>\n",
       "    <tr>\n",
       "      <th>17</th>\n",
       "      <td>1942-7-18</td>\n",
       "    </tr>\n",
       "    <tr>\n",
       "      <th>18</th>\n",
       "      <td>1942-7-19</td>\n",
       "    </tr>\n",
       "    <tr>\n",
       "      <th>19</th>\n",
       "      <td>1942-7-20</td>\n",
       "    </tr>\n",
       "    <tr>\n",
       "      <th>20</th>\n",
       "      <td>1942-7-21</td>\n",
       "    </tr>\n",
       "    <tr>\n",
       "      <th>21</th>\n",
       "      <td>1942-7-22</td>\n",
       "    </tr>\n",
       "    <tr>\n",
       "      <th>22</th>\n",
       "      <td>1942-7-23</td>\n",
       "    </tr>\n",
       "    <tr>\n",
       "      <th>23</th>\n",
       "      <td>1942-7-24</td>\n",
       "    </tr>\n",
       "    <tr>\n",
       "      <th>24</th>\n",
       "      <td>1942-7-25</td>\n",
       "    </tr>\n",
       "    <tr>\n",
       "      <th>25</th>\n",
       "      <td>1942-7-26</td>\n",
       "    </tr>\n",
       "    <tr>\n",
       "      <th>26</th>\n",
       "      <td>1942-7-27</td>\n",
       "    </tr>\n",
       "    <tr>\n",
       "      <th>27</th>\n",
       "      <td>1942-7-28</td>\n",
       "    </tr>\n",
       "    <tr>\n",
       "      <th>28</th>\n",
       "      <td>1942-7-29</td>\n",
       "    </tr>\n",
       "    <tr>\n",
       "      <th>29</th>\n",
       "      <td>1942-7-30</td>\n",
       "    </tr>\n",
       "    <tr>\n",
       "      <th>...</th>\n",
       "      <td>...</td>\n",
       "    </tr>\n",
       "    <tr>\n",
       "      <th>119010</th>\n",
       "      <td>1945-12-2</td>\n",
       "    </tr>\n",
       "    <tr>\n",
       "      <th>119011</th>\n",
       "      <td>1945-12-3</td>\n",
       "    </tr>\n",
       "    <tr>\n",
       "      <th>119012</th>\n",
       "      <td>1945-12-4</td>\n",
       "    </tr>\n",
       "    <tr>\n",
       "      <th>119013</th>\n",
       "      <td>1945-12-5</td>\n",
       "    </tr>\n",
       "    <tr>\n",
       "      <th>119014</th>\n",
       "      <td>1945-12-6</td>\n",
       "    </tr>\n",
       "    <tr>\n",
       "      <th>119015</th>\n",
       "      <td>1945-12-7</td>\n",
       "    </tr>\n",
       "    <tr>\n",
       "      <th>119016</th>\n",
       "      <td>1945-12-8</td>\n",
       "    </tr>\n",
       "    <tr>\n",
       "      <th>119017</th>\n",
       "      <td>1945-12-9</td>\n",
       "    </tr>\n",
       "    <tr>\n",
       "      <th>119018</th>\n",
       "      <td>1945-12-10</td>\n",
       "    </tr>\n",
       "    <tr>\n",
       "      <th>119019</th>\n",
       "      <td>1945-12-11</td>\n",
       "    </tr>\n",
       "    <tr>\n",
       "      <th>119020</th>\n",
       "      <td>1945-12-12</td>\n",
       "    </tr>\n",
       "    <tr>\n",
       "      <th>119021</th>\n",
       "      <td>1945-12-13</td>\n",
       "    </tr>\n",
       "    <tr>\n",
       "      <th>119022</th>\n",
       "      <td>1945-12-14</td>\n",
       "    </tr>\n",
       "    <tr>\n",
       "      <th>119023</th>\n",
       "      <td>1945-12-15</td>\n",
       "    </tr>\n",
       "    <tr>\n",
       "      <th>119024</th>\n",
       "      <td>1945-12-16</td>\n",
       "    </tr>\n",
       "    <tr>\n",
       "      <th>119025</th>\n",
       "      <td>1945-12-17</td>\n",
       "    </tr>\n",
       "    <tr>\n",
       "      <th>119026</th>\n",
       "      <td>1945-12-18</td>\n",
       "    </tr>\n",
       "    <tr>\n",
       "      <th>119027</th>\n",
       "      <td>1945-12-19</td>\n",
       "    </tr>\n",
       "    <tr>\n",
       "      <th>119028</th>\n",
       "      <td>1945-12-20</td>\n",
       "    </tr>\n",
       "    <tr>\n",
       "      <th>119029</th>\n",
       "      <td>1945-12-21</td>\n",
       "    </tr>\n",
       "    <tr>\n",
       "      <th>119030</th>\n",
       "      <td>1945-12-22</td>\n",
       "    </tr>\n",
       "    <tr>\n",
       "      <th>119031</th>\n",
       "      <td>1945-12-23</td>\n",
       "    </tr>\n",
       "    <tr>\n",
       "      <th>119032</th>\n",
       "      <td>1945-12-24</td>\n",
       "    </tr>\n",
       "    <tr>\n",
       "      <th>119033</th>\n",
       "      <td>1945-12-25</td>\n",
       "    </tr>\n",
       "    <tr>\n",
       "      <th>119034</th>\n",
       "      <td>1945-12-26</td>\n",
       "    </tr>\n",
       "    <tr>\n",
       "      <th>119035</th>\n",
       "      <td>1945-12-27</td>\n",
       "    </tr>\n",
       "    <tr>\n",
       "      <th>119036</th>\n",
       "      <td>1945-12-28</td>\n",
       "    </tr>\n",
       "    <tr>\n",
       "      <th>119037</th>\n",
       "      <td>1945-12-29</td>\n",
       "    </tr>\n",
       "    <tr>\n",
       "      <th>119038</th>\n",
       "      <td>1945-12-30</td>\n",
       "    </tr>\n",
       "    <tr>\n",
       "      <th>119039</th>\n",
       "      <td>1945-12-31</td>\n",
       "    </tr>\n",
       "  </tbody>\n",
       "</table>\n",
       "<p>119040 rows × 1 columns</p>\n",
       "</div>"
      ],
      "text/plain": [
       "              Date\n",
       "0         1942-7-1\n",
       "1         1942-7-2\n",
       "2         1942-7-3\n",
       "3         1942-7-4\n",
       "4         1942-7-5\n",
       "5         1942-7-6\n",
       "6         1942-7-7\n",
       "7         1942-7-8\n",
       "8         1942-7-9\n",
       "9        1942-7-10\n",
       "10       1942-7-11\n",
       "11       1942-7-12\n",
       "12       1942-7-13\n",
       "13       1942-7-14\n",
       "14       1942-7-15\n",
       "15       1942-7-16\n",
       "16       1942-7-17\n",
       "17       1942-7-18\n",
       "18       1942-7-19\n",
       "19       1942-7-20\n",
       "20       1942-7-21\n",
       "21       1942-7-22\n",
       "22       1942-7-23\n",
       "23       1942-7-24\n",
       "24       1942-7-25\n",
       "25       1942-7-26\n",
       "26       1942-7-27\n",
       "27       1942-7-28\n",
       "28       1942-7-29\n",
       "29       1942-7-30\n",
       "...            ...\n",
       "119010   1945-12-2\n",
       "119011   1945-12-3\n",
       "119012   1945-12-4\n",
       "119013   1945-12-5\n",
       "119014   1945-12-6\n",
       "119015   1945-12-7\n",
       "119016   1945-12-8\n",
       "119017   1945-12-9\n",
       "119018  1945-12-10\n",
       "119019  1945-12-11\n",
       "119020  1945-12-12\n",
       "119021  1945-12-13\n",
       "119022  1945-12-14\n",
       "119023  1945-12-15\n",
       "119024  1945-12-16\n",
       "119025  1945-12-17\n",
       "119026  1945-12-18\n",
       "119027  1945-12-19\n",
       "119028  1945-12-20\n",
       "119029  1945-12-21\n",
       "119030  1945-12-22\n",
       "119031  1945-12-23\n",
       "119032  1945-12-24\n",
       "119033  1945-12-25\n",
       "119034  1945-12-26\n",
       "119035  1945-12-27\n",
       "119036  1945-12-28\n",
       "119037  1945-12-29\n",
       "119038  1945-12-30\n",
       "119039  1945-12-31\n",
       "\n",
       "[119040 rows x 1 columns]"
      ]
     },
     "execution_count": 32,
     "metadata": {},
     "output_type": "execute_result"
    }
   ],
   "source": [
    "# we can change the one-column Dataframe with the to_frame method\n",
    "\n",
    "date.to_frame()"
   ]
  },
  {
   "cell_type": "markdown",
   "metadata": {},
   "source": [
    "# Series methods"
   ]
  },
  {
   "cell_type": "code",
   "execution_count": 33,
   "metadata": {
    "collapsed": false
   },
   "outputs": [
    {
     "data": {
      "text/plain": [
       "418"
      ]
     },
     "execution_count": 33,
     "metadata": {},
     "output_type": "execute_result"
    }
   ],
   "source": [
    "# we can use dir function to view the amount of methods and attributes of a series\n",
    "\n",
    "s_attr_methods = set(dir(pd.Series))\n",
    "len(s_attr_methods)"
   ]
  },
  {
   "cell_type": "code",
   "execution_count": 34,
   "metadata": {
    "collapsed": false
   },
   "outputs": [
    {
     "data": {
      "text/plain": [
       "425"
      ]
     },
     "execution_count": 34,
     "metadata": {},
     "output_type": "execute_result"
    }
   ],
   "source": [
    "# we can also use dir function to view the amount of methods and attribute of a Dataframe\n",
    "\n",
    "df_attr_methods = set(dir(pd.DataFrame))\n",
    "len(df_attr_methods)"
   ]
  },
  {
   "cell_type": "code",
   "execution_count": 36,
   "metadata": {
    "collapsed": false
   },
   "outputs": [
    {
     "data": {
      "text/plain": [
       "350"
      ]
     },
     "execution_count": 36,
     "metadata": {},
     "output_type": "execute_result"
    }
   ],
   "source": [
    "# the similar method and attributes between Series and Dataframes\n",
    "\n",
    "len(s_attr_methods & df_attr_methods )"
   ]
  },
  {
   "cell_type": "code",
   "execution_count": 38,
   "metadata": {
    "collapsed": false
   },
   "outputs": [],
   "source": [
    "date = weather_data[\"Date\"]\n",
    "Max_temp = weather_data[\"MaxTemp\"]\n"
   ]
  },
  {
   "cell_type": "code",
   "execution_count": 39,
   "metadata": {
    "collapsed": false
   },
   "outputs": [
    {
     "data": {
      "text/plain": [
       "0    1942-7-1\n",
       "1    1942-7-2\n",
       "2    1942-7-3\n",
       "3    1942-7-4\n",
       "4    1942-7-5\n",
       "Name: Date, dtype: object"
      ]
     },
     "execution_count": 39,
     "metadata": {},
     "output_type": "execute_result"
    }
   ],
   "source": [
    "date.head()"
   ]
  },
  {
   "cell_type": "code",
   "execution_count": 40,
   "metadata": {
    "collapsed": false
   },
   "outputs": [
    {
     "data": {
      "text/plain": [
       "0    25.555556\n",
       "1    28.888889\n",
       "2    26.111111\n",
       "3    26.666667\n",
       "4    26.666667\n",
       "Name: MaxTemp, dtype: float64"
      ]
     },
     "execution_count": 40,
     "metadata": {},
     "output_type": "execute_result"
    }
   ],
   "source": [
    "Max_temp.head()"
   ]
  },
  {
   "cell_type": "code",
   "execution_count": 41,
   "metadata": {
    "collapsed": false
   },
   "outputs": [
    {
     "data": {
      "text/plain": [
       "1945-4-26     122\n",
       "1945-4-19     122\n",
       "1945-4-24     122\n",
       "1945-4-22     122\n",
       "1945-4-25     122\n",
       "1945-4-23     122\n",
       "1945-4-29     122\n",
       "1945-4-20     122\n",
       "1945-4-27     122\n",
       "1945-4-16     122\n",
       "1945-4-17     122\n",
       "1945-4-14     121\n",
       "1945-4-18     121\n",
       "1945-4-12     121\n",
       "1945-4-6      121\n",
       "1945-4-11     121\n",
       "1945-4-1      121\n",
       "1945-4-21     121\n",
       "1945-4-13     121\n",
       "1945-3-12     121\n",
       "1945-4-5      121\n",
       "1945-3-11     121\n",
       "1945-4-2      121\n",
       "1945-4-28     121\n",
       "1945-3-17     120\n",
       "1945-3-23     120\n",
       "1945-3-13     120\n",
       "1945-4-4      120\n",
       "1945-3-25     120\n",
       "1945-4-15     120\n",
       "             ... \n",
       "1940-1-12       3\n",
       "1940-1-25       3\n",
       "1940-1-22       3\n",
       "1940-1-18       3\n",
       "1940-1-23       3\n",
       "1940-1-24       3\n",
       "1940-1-28       3\n",
       "1940-1-5        3\n",
       "1940-1-27       3\n",
       "1940-1-4        3\n",
       "1940-1-14       3\n",
       "1940-1-26       3\n",
       "1940-1-13       3\n",
       "1940-1-7        3\n",
       "1940-1-9        3\n",
       "1940-1-19       3\n",
       "1940-1-2        3\n",
       "1940-1-3        3\n",
       "1940-1-20       3\n",
       "1940-1-21       3\n",
       "1940-1-11       3\n",
       "1940-1-17       3\n",
       "1940-1-6        3\n",
       "1940-1-10       3\n",
       "1940-12-25      3\n",
       "1940-1-31       3\n",
       "1940-1-1        3\n",
       "1940-1-30       3\n",
       "1940-1-15       3\n",
       "1940-1-16       3\n",
       "Name: Date, dtype: int64"
      ]
     },
     "execution_count": 41,
     "metadata": {},
     "output_type": "execute_result"
    }
   ],
   "source": [
    "# the data type of the series usually tells us what methods we can expect to use\n",
    "\n",
    "date.value_counts()"
   ]
  },
  {
   "cell_type": "code",
   "execution_count": 42,
   "metadata": {
    "collapsed": false
   },
   "outputs": [
    {
     "data": {
      "text/plain": [
       "119040"
      ]
     },
     "execution_count": 42,
     "metadata": {},
     "output_type": "execute_result"
    }
   ],
   "source": [
    "date.size # the size of the column using the size method"
   ]
  },
  {
   "cell_type": "code",
   "execution_count": 43,
   "metadata": {
    "collapsed": false
   },
   "outputs": [
    {
     "data": {
      "text/plain": [
       "(119040,)"
      ]
     },
     "execution_count": 43,
     "metadata": {},
     "output_type": "execute_result"
    }
   ],
   "source": [
    "date.shape # the size of the column given as a vector"
   ]
  },
  {
   "cell_type": "code",
   "execution_count": 45,
   "metadata": {
    "collapsed": false
   },
   "outputs": [
    {
     "data": {
      "text/plain": [
       "119040"
      ]
     },
     "execution_count": 45,
     "metadata": {},
     "output_type": "execute_result"
    }
   ],
   "source": [
    "len(date) # a third way to get the size of the column"
   ]
  },
  {
   "cell_type": "code",
   "execution_count": 46,
   "metadata": {
    "collapsed": false
   },
   "outputs": [
    {
     "data": {
      "text/plain": [
       "119040"
      ]
     },
     "execution_count": 46,
     "metadata": {},
     "output_type": "execute_result"
    }
   ],
   "source": [
    "date.count() # the amount of non-missing values"
   ]
  },
  {
   "cell_type": "code",
   "execution_count": 47,
   "metadata": {
    "collapsed": false
   },
   "outputs": [
    {
     "data": {
      "text/plain": [
       "119040"
      ]
     },
     "execution_count": 47,
     "metadata": {},
     "output_type": "execute_result"
    }
   ],
   "source": [
    "Max_temp.count() # the amount of non-missing values"
   ]
  },
  {
   "cell_type": "code",
   "execution_count": 48,
   "metadata": {
    "collapsed": false
   },
   "outputs": [
    {
     "data": {
      "text/plain": [
       "'1940-1-1'"
      ]
     },
     "execution_count": 48,
     "metadata": {},
     "output_type": "execute_result"
    }
   ],
   "source": [
    "# summary statistics\n",
    "\n",
    "date.min()"
   ]
  },
  {
   "cell_type": "code",
   "execution_count": 49,
   "metadata": {
    "collapsed": false
   },
   "outputs": [
    {
     "data": {
      "text/plain": [
       "'1945-9-9'"
      ]
     },
     "execution_count": 49,
     "metadata": {},
     "output_type": "execute_result"
    }
   ],
   "source": [
    "date.max()"
   ]
  },
  {
   "cell_type": "code",
   "execution_count": 51,
   "metadata": {
    "collapsed": false
   },
   "outputs": [
    {
     "data": {
      "text/plain": [
       "27.045110887088217"
      ]
     },
     "execution_count": 51,
     "metadata": {},
     "output_type": "execute_result"
    }
   ],
   "source": [
    "Max_temp.mean()"
   ]
  },
  {
   "cell_type": "code",
   "execution_count": 52,
   "metadata": {
    "collapsed": false
   },
   "outputs": [
    {
     "data": {
      "text/plain": [
       "8.717816648550292"
      ]
     },
     "execution_count": 52,
     "metadata": {},
     "output_type": "execute_result"
    }
   ],
   "source": [
    "Max_temp.std()"
   ]
  },
  {
   "cell_type": "code",
   "execution_count": 54,
   "metadata": {
    "collapsed": false
   },
   "outputs": [
    {
     "data": {
      "text/plain": [
       "count    119040.000000\n",
       "mean         27.045111\n",
       "std           8.717817\n",
       "min         -33.333333\n",
       "25%          25.555556\n",
       "50%          29.444444\n",
       "75%          31.666667\n",
       "max          50.000000\n",
       "Name: MaxTemp, dtype: float64"
      ]
     },
     "execution_count": 54,
     "metadata": {},
     "output_type": "execute_result"
    }
   ],
   "source": [
    "# using the describe method on the float 64 field Max_temp\n",
    "\n",
    "Max_temp.describe()\n"
   ]
  },
  {
   "cell_type": "code",
   "execution_count": 56,
   "metadata": {
    "collapsed": false
   },
   "outputs": [
    {
     "data": {
      "text/plain": [
       "count        119040\n",
       "unique         2192\n",
       "top       1945-4-26\n",
       "freq            122\n",
       "Name: Date, dtype: object"
      ]
     },
     "execution_count": 56,
     "metadata": {},
     "output_type": "execute_result"
    }
   ],
   "source": [
    "#using the describe method on the Object field date\n",
    "\n",
    "date.describe()"
   ]
  },
  {
   "cell_type": "code",
   "execution_count": 58,
   "metadata": {
    "collapsed": false
   },
   "outputs": [
    {
     "data": {
      "text/plain": [
       "0.1    16.111111\n",
       "0.2    23.333333\n",
       "0.3    26.666667\n",
       "0.4    28.333333\n",
       "0.5    29.444444\n",
       "0.6    30.000000\n",
       "0.7    31.111111\n",
       "0.8    32.222222\n",
       "0.9    33.888889\n",
       "Name: MaxTemp, dtype: float64"
      ]
     },
     "execution_count": 58,
     "metadata": {},
     "output_type": "execute_result"
    }
   ],
   "source": [
    "# quantile\n",
    "\n",
    "Max_temp.quantile([.1,.2,.3,.4,.5,.6,.7,.8,.9])"
   ]
  },
  {
   "cell_type": "code",
   "execution_count": 60,
   "metadata": {
    "collapsed": false
   },
   "outputs": [
    {
     "data": {
      "text/plain": [
       "0         False\n",
       "1         False\n",
       "2         False\n",
       "3         False\n",
       "4         False\n",
       "5         False\n",
       "6         False\n",
       "7         False\n",
       "8         False\n",
       "9         False\n",
       "10        False\n",
       "11        False\n",
       "12        False\n",
       "13        False\n",
       "14        False\n",
       "15        False\n",
       "16        False\n",
       "17        False\n",
       "18        False\n",
       "19        False\n",
       "20        False\n",
       "21        False\n",
       "22        False\n",
       "23        False\n",
       "24        False\n",
       "25        False\n",
       "26        False\n",
       "27        False\n",
       "28        False\n",
       "29        False\n",
       "          ...  \n",
       "119010    False\n",
       "119011    False\n",
       "119012    False\n",
       "119013    False\n",
       "119014    False\n",
       "119015    False\n",
       "119016    False\n",
       "119017    False\n",
       "119018    False\n",
       "119019    False\n",
       "119020    False\n",
       "119021    False\n",
       "119022    False\n",
       "119023    False\n",
       "119024    False\n",
       "119025    False\n",
       "119026    False\n",
       "119027    False\n",
       "119028    False\n",
       "119029    False\n",
       "119030    False\n",
       "119031    False\n",
       "119032    False\n",
       "119033    False\n",
       "119034    False\n",
       "119035    False\n",
       "119036    False\n",
       "119037    False\n",
       "119038    False\n",
       "119039    False\n",
       "Name: MaxTemp, dtype: bool"
      ]
     },
     "execution_count": 60,
     "metadata": {},
     "output_type": "execute_result"
    }
   ],
   "source": [
    "Max_temp.isnull() # isnull returns a series of booleans to let us know whether there null values"
   ]
  },
  {
   "cell_type": "code",
   "execution_count": 61,
   "metadata": {
    "collapsed": true
   },
   "outputs": [],
   "source": [
    "# we can replace all missing values using a fillna method"
   ]
  },
  {
   "cell_type": "code",
   "execution_count": 62,
   "metadata": {
    "collapsed": true
   },
   "outputs": [],
   "source": [
    "# to remove the series elements with missing values , using dropna"
   ]
  },
  {
   "cell_type": "code",
   "execution_count": 64,
   "metadata": {
    "collapsed": false
   },
   "outputs": [
    {
     "data": {
      "text/plain": [
       "1945-4-26     0.001025\n",
       "1945-4-19     0.001025\n",
       "1945-4-24     0.001025\n",
       "1945-4-22     0.001025\n",
       "1945-4-25     0.001025\n",
       "1945-4-23     0.001025\n",
       "1945-4-29     0.001025\n",
       "1945-4-20     0.001025\n",
       "1945-4-27     0.001025\n",
       "1945-4-16     0.001025\n",
       "1945-4-17     0.001025\n",
       "1945-4-14     0.001016\n",
       "1945-4-18     0.001016\n",
       "1945-4-12     0.001016\n",
       "1945-4-6      0.001016\n",
       "1945-4-11     0.001016\n",
       "1945-4-1      0.001016\n",
       "1945-4-21     0.001016\n",
       "1945-4-13     0.001016\n",
       "1945-3-12     0.001016\n",
       "1945-4-5      0.001016\n",
       "1945-3-11     0.001016\n",
       "1945-4-2      0.001016\n",
       "1945-4-28     0.001016\n",
       "1945-3-17     0.001008\n",
       "1945-3-23     0.001008\n",
       "1945-3-13     0.001008\n",
       "1945-4-4      0.001008\n",
       "1945-3-25     0.001008\n",
       "1945-4-15     0.001008\n",
       "                ...   \n",
       "1940-1-12     0.000025\n",
       "1940-1-25     0.000025\n",
       "1940-1-22     0.000025\n",
       "1940-1-18     0.000025\n",
       "1940-1-23     0.000025\n",
       "1940-1-24     0.000025\n",
       "1940-1-28     0.000025\n",
       "1940-1-5      0.000025\n",
       "1940-1-27     0.000025\n",
       "1940-1-4      0.000025\n",
       "1940-1-14     0.000025\n",
       "1940-1-26     0.000025\n",
       "1940-1-13     0.000025\n",
       "1940-1-7      0.000025\n",
       "1940-1-9      0.000025\n",
       "1940-1-19     0.000025\n",
       "1940-1-2      0.000025\n",
       "1940-1-3      0.000025\n",
       "1940-1-20     0.000025\n",
       "1940-1-21     0.000025\n",
       "1940-1-11     0.000025\n",
       "1940-1-17     0.000025\n",
       "1940-1-6      0.000025\n",
       "1940-1-10     0.000025\n",
       "1940-12-25    0.000025\n",
       "1940-1-31     0.000025\n",
       "1940-1-1      0.000025\n",
       "1940-1-30     0.000025\n",
       "1940-1-15     0.000025\n",
       "1940-1-16     0.000025\n",
       "Name: Date, dtype: float64"
      ]
     },
     "execution_count": 64,
     "metadata": {},
     "output_type": "execute_result"
    }
   ],
   "source": [
    "# using value counts and the setting the attribute Normalized=True we get the relative \n",
    "# frequencies\n",
    "\n",
    "date.value_counts(normalize=True)"
   ]
  },
  {
   "cell_type": "code",
   "execution_count": 65,
   "metadata": {
    "collapsed": false
   },
   "outputs": [
    {
     "data": {
      "text/plain": [
       "False"
      ]
     },
     "execution_count": 65,
     "metadata": {},
     "output_type": "execute_result"
    }
   ],
   "source": [
    "# we can check for null values in the the date column by using hasnans attribute\n",
    "\n",
    "date.hasnans"
   ]
  },
  {
   "cell_type": "code",
   "execution_count": 66,
   "metadata": {
    "collapsed": false
   },
   "outputs": [
    {
     "data": {
      "text/plain": [
       "False"
      ]
     },
     "execution_count": 66,
     "metadata": {},
     "output_type": "execute_result"
    }
   ],
   "source": [
    "# we can also check for null values in the date column\n",
    "\n",
    "Max_temp.hasnans"
   ]
  },
  {
   "cell_type": "code",
   "execution_count": 67,
   "metadata": {
    "collapsed": false
   },
   "outputs": [
    {
     "data": {
      "text/plain": [
       "0         True\n",
       "1         True\n",
       "2         True\n",
       "3         True\n",
       "4         True\n",
       "5         True\n",
       "6         True\n",
       "7         True\n",
       "8         True\n",
       "9         True\n",
       "10        True\n",
       "11        True\n",
       "12        True\n",
       "13        True\n",
       "14        True\n",
       "15        True\n",
       "16        True\n",
       "17        True\n",
       "18        True\n",
       "19        True\n",
       "20        True\n",
       "21        True\n",
       "22        True\n",
       "23        True\n",
       "24        True\n",
       "25        True\n",
       "26        True\n",
       "27        True\n",
       "28        True\n",
       "29        True\n",
       "          ... \n",
       "119010    True\n",
       "119011    True\n",
       "119012    True\n",
       "119013    True\n",
       "119014    True\n",
       "119015    True\n",
       "119016    True\n",
       "119017    True\n",
       "119018    True\n",
       "119019    True\n",
       "119020    True\n",
       "119021    True\n",
       "119022    True\n",
       "119023    True\n",
       "119024    True\n",
       "119025    True\n",
       "119026    True\n",
       "119027    True\n",
       "119028    True\n",
       "119029    True\n",
       "119030    True\n",
       "119031    True\n",
       "119032    True\n",
       "119033    True\n",
       "119034    True\n",
       "119035    True\n",
       "119036    True\n",
       "119037    True\n",
       "119038    True\n",
       "119039    True\n",
       "Name: Date, dtype: bool"
      ]
     },
     "execution_count": 67,
     "metadata": {},
     "output_type": "execute_result"
    }
   ],
   "source": [
    "# there is a complement for isnull method which is is not null\n",
    "\n",
    "date.notnull()"
   ]
  },
  {
   "cell_type": "markdown",
   "metadata": {},
   "source": [
    "# Using Operators on a Series"
   ]
  },
  {
   "cell_type": "code",
   "execution_count": 68,
   "metadata": {
    "collapsed": false
   },
   "outputs": [
    {
     "data": {
      "text/plain": [
       "14"
      ]
     },
     "execution_count": 68,
     "metadata": {},
     "output_type": "execute_result"
    }
   ],
   "source": [
    "5+9\n"
   ]
  },
  {
   "cell_type": "code",
   "execution_count": 69,
   "metadata": {
    "collapsed": false
   },
   "outputs": [
    {
     "data": {
      "text/plain": [
       "16"
      ]
     },
     "execution_count": 69,
     "metadata": {},
     "output_type": "execute_result"
    }
   ],
   "source": [
    "4**2"
   ]
  },
  {
   "cell_type": "code",
   "execution_count": 70,
   "metadata": {
    "collapsed": true
   },
   "outputs": [],
   "source": [
    "a=10"
   ]
  },
  {
   "cell_type": "code",
   "execution_count": 71,
   "metadata": {
    "collapsed": false
   },
   "outputs": [
    {
     "data": {
      "text/plain": [
       "True"
      ]
     },
     "execution_count": 71,
     "metadata": {},
     "output_type": "execute_result"
    }
   ],
   "source": [
    "5<=9"
   ]
  },
  {
   "cell_type": "code",
   "execution_count": 72,
   "metadata": {
    "collapsed": false
   },
   "outputs": [
    {
     "data": {
      "text/plain": [
       "'abcdefg'"
      ]
     },
     "execution_count": 72,
     "metadata": {},
     "output_type": "execute_result"
    }
   ],
   "source": [
    "'abcde'+'fg'"
   ]
  },
  {
   "cell_type": "code",
   "execution_count": 73,
   "metadata": {
    "collapsed": false
   },
   "outputs": [
    {
     "data": {
      "text/plain": [
       "False"
      ]
     },
     "execution_count": 73,
     "metadata": {},
     "output_type": "execute_result"
    }
   ],
   "source": [
    "not (5<=9)"
   ]
  },
  {
   "cell_type": "code",
   "execution_count": 74,
   "metadata": {
    "collapsed": false
   },
   "outputs": [
    {
     "data": {
      "text/plain": [
       "False"
      ]
     },
     "execution_count": 74,
     "metadata": {},
     "output_type": "execute_result"
    }
   ],
   "source": [
    "7 in [1,2,6]"
   ]
  },
  {
   "cell_type": "code",
   "execution_count": 75,
   "metadata": {
    "collapsed": false
   },
   "outputs": [
    {
     "data": {
      "text/plain": [
       "{2, 3}"
      ]
     },
     "execution_count": 75,
     "metadata": {},
     "output_type": "execute_result"
    }
   ],
   "source": [
    "set([1,2,3])&set([2,3,4])"
   ]
  },
  {
   "cell_type": "code",
   "execution_count": 76,
   "metadata": {
    "collapsed": false
   },
   "outputs": [
    {
     "ename": "TypeError",
     "evalue": "unsupported operand type(s) for -: 'list' and 'int'",
     "output_type": "error",
     "traceback": [
      "\u001b[0;31m---------------------------------------------------------------------------\u001b[0m",
      "\u001b[0;31mTypeError\u001b[0m                                 Traceback (most recent call last)",
      "\u001b[0;32m<ipython-input-76-64a8150264cc>\u001b[0m in \u001b[0;36m<module>\u001b[0;34m()\u001b[0m\n\u001b[0;32m----> 1\u001b[0;31m \u001b[1;33m[\u001b[0m\u001b[1;36m1\u001b[0m\u001b[1;33m,\u001b[0m\u001b[1;36m2\u001b[0m\u001b[1;33m,\u001b[0m\u001b[1;36m3\u001b[0m\u001b[1;33m]\u001b[0m\u001b[1;33m-\u001b[0m\u001b[1;36m3\u001b[0m\u001b[1;33m\u001b[0m\u001b[0m\n\u001b[0m",
      "\u001b[0;31mTypeError\u001b[0m: unsupported operand type(s) for -: 'list' and 'int'"
     ]
    }
   ],
   "source": [
    "# not all operators are implemented for every data type\n",
    "\n",
    "[1,2,3]-3 "
   ]
  },
  {
   "cell_type": "code",
   "execution_count": 77,
   "metadata": {
    "collapsed": false
   },
   "outputs": [
    {
     "ename": "TypeError",
     "evalue": "'set' object does not support indexing",
     "output_type": "error",
     "traceback": [
      "\u001b[0;31m---------------------------------------------------------------------------\u001b[0m",
      "\u001b[0;31mTypeError\u001b[0m                                 Traceback (most recent call last)",
      "\u001b[0;32m<ipython-input-77-caa12980a03a>\u001b[0m in \u001b[0;36m<module>\u001b[0;34m()\u001b[0m\n\u001b[1;32m      1\u001b[0m \u001b[0ma\u001b[0m\u001b[1;33m=\u001b[0m\u001b[0mset\u001b[0m\u001b[1;33m(\u001b[0m\u001b[1;33m[\u001b[0m\u001b[1;36m1\u001b[0m\u001b[1;33m,\u001b[0m\u001b[1;36m2\u001b[0m\u001b[1;33m,\u001b[0m\u001b[1;36m3\u001b[0m\u001b[1;33m]\u001b[0m\u001b[1;33m)\u001b[0m\u001b[1;33m\u001b[0m\u001b[0m\n\u001b[0;32m----> 2\u001b[0;31m \u001b[0ma\u001b[0m\u001b[1;33m[\u001b[0m\u001b[1;36m0\u001b[0m\u001b[1;33m]\u001b[0m\u001b[1;33m\u001b[0m\u001b[0m\n\u001b[0m",
      "\u001b[0;31mTypeError\u001b[0m: 'set' object does not support indexing"
     ]
    }
   ],
   "source": [
    "a=set([1,2,3])\n",
    "a[0]"
   ]
  },
  {
   "cell_type": "code",
   "execution_count": 78,
   "metadata": {
    "collapsed": false
   },
   "outputs": [
    {
     "data": {
      "text/plain": [
       "0         26.555556\n",
       "1         29.888889\n",
       "2         27.111111\n",
       "3         27.666667\n",
       "4         27.666667\n",
       "5         27.666667\n",
       "6         29.333333\n",
       "7         27.666667\n",
       "8         28.222222\n",
       "9         26.555556\n",
       "10        26.555556\n",
       "11        25.444444\n",
       "12        27.111111\n",
       "13        27.111111\n",
       "14        26.555556\n",
       "15        27.111111\n",
       "16        29.333333\n",
       "17        27.666667\n",
       "18        28.777778\n",
       "19        27.111111\n",
       "20        25.444444\n",
       "21        25.444444\n",
       "22        27.666667\n",
       "23        28.222222\n",
       "24        28.222222\n",
       "25        26.555556\n",
       "26        26.555556\n",
       "27        27.666667\n",
       "28        27.666667\n",
       "29        28.222222\n",
       "            ...    \n",
       "119010    29.333333\n",
       "119011    28.777778\n",
       "119012    30.444444\n",
       "119013    22.111111\n",
       "119014    28.222222\n",
       "119015    28.222222\n",
       "119016    27.111111\n",
       "119017    31.555556\n",
       "119018    31.000000\n",
       "119019    29.888889\n",
       "119020    31.555556\n",
       "119021    33.222222\n",
       "119022    32.111111\n",
       "119023    31.555556\n",
       "119024    30.444444\n",
       "119025    29.888889\n",
       "119026    31.555556\n",
       "119027    26.555556\n",
       "119028    27.666667\n",
       "119029    29.888889\n",
       "119030    29.888889\n",
       "119031    29.333333\n",
       "119032    29.333333\n",
       "119033    29.888889\n",
       "119034    30.444444\n",
       "119035    29.333333\n",
       "119036    30.444444\n",
       "119037    29.333333\n",
       "119038    29.333333\n",
       "119039    30.444444\n",
       "Name: MaxTemp, dtype: float64"
      ]
     },
     "execution_count": 78,
     "metadata": {},
     "output_type": "execute_result"
    }
   ],
   "source": [
    "# using operations on series\n",
    "\n",
    "Max_temp + 1"
   ]
  },
  {
   "cell_type": "code",
   "execution_count": 79,
   "metadata": {
    "collapsed": false
   },
   "outputs": [
    {
     "data": {
      "text/plain": [
       "0         255.555556\n",
       "1         288.888889\n",
       "2         261.111111\n",
       "3         266.666667\n",
       "4         266.666667\n",
       "5         266.666667\n",
       "6         283.333333\n",
       "7         266.666667\n",
       "8         272.222222\n",
       "9         255.555556\n",
       "10        255.555556\n",
       "11        244.444444\n",
       "12        261.111111\n",
       "13        261.111111\n",
       "14        255.555556\n",
       "15        261.111111\n",
       "16        283.333333\n",
       "17        266.666667\n",
       "18        277.777778\n",
       "19        261.111111\n",
       "20        244.444444\n",
       "21        244.444444\n",
       "22        266.666667\n",
       "23        272.222222\n",
       "24        272.222222\n",
       "25        255.555556\n",
       "26        255.555556\n",
       "27        266.666667\n",
       "28        266.666667\n",
       "29        272.222222\n",
       "             ...    \n",
       "119010    283.333333\n",
       "119011    277.777778\n",
       "119012    294.444444\n",
       "119013    211.111111\n",
       "119014    272.222222\n",
       "119015    272.222222\n",
       "119016    261.111111\n",
       "119017    305.555556\n",
       "119018    300.000000\n",
       "119019    288.888889\n",
       "119020    305.555556\n",
       "119021    322.222222\n",
       "119022    311.111111\n",
       "119023    305.555556\n",
       "119024    294.444444\n",
       "119025    288.888889\n",
       "119026    305.555556\n",
       "119027    255.555556\n",
       "119028    266.666667\n",
       "119029    288.888889\n",
       "119030    288.888889\n",
       "119031    283.333333\n",
       "119032    283.333333\n",
       "119033    288.888889\n",
       "119034    294.444444\n",
       "119035    283.333333\n",
       "119036    294.444444\n",
       "119037    283.333333\n",
       "119038    283.333333\n",
       "119039    294.444444\n",
       "Name: MaxTemp, dtype: float64"
      ]
     },
     "execution_count": 79,
     "metadata": {},
     "output_type": "execute_result"
    }
   ],
   "source": [
    "Max_temp * 10"
   ]
  },
  {
   "cell_type": "code",
   "execution_count": 81,
   "metadata": {
    "collapsed": false
   },
   "outputs": [
    {
     "data": {
      "text/plain": [
       "0         5.0\n",
       "1         5.0\n",
       "2         5.0\n",
       "3         5.0\n",
       "4         5.0\n",
       "5         5.0\n",
       "6         5.0\n",
       "7         5.0\n",
       "8         5.0\n",
       "9         5.0\n",
       "10        5.0\n",
       "11        4.0\n",
       "12        5.0\n",
       "13        5.0\n",
       "14        5.0\n",
       "15        5.0\n",
       "16        5.0\n",
       "17        5.0\n",
       "18        5.0\n",
       "19        5.0\n",
       "20        4.0\n",
       "21        4.0\n",
       "22        5.0\n",
       "23        5.0\n",
       "24        5.0\n",
       "25        5.0\n",
       "26        5.0\n",
       "27        5.0\n",
       "28        5.0\n",
       "29        5.0\n",
       "         ... \n",
       "119010    5.0\n",
       "119011    5.0\n",
       "119012    5.0\n",
       "119013    4.0\n",
       "119014    5.0\n",
       "119015    5.0\n",
       "119016    5.0\n",
       "119017    6.0\n",
       "119018    6.0\n",
       "119019    5.0\n",
       "119020    6.0\n",
       "119021    6.0\n",
       "119022    6.0\n",
       "119023    6.0\n",
       "119024    5.0\n",
       "119025    5.0\n",
       "119026    6.0\n",
       "119027    5.0\n",
       "119028    5.0\n",
       "119029    5.0\n",
       "119030    5.0\n",
       "119031    5.0\n",
       "119032    5.0\n",
       "119033    5.0\n",
       "119034    5.0\n",
       "119035    5.0\n",
       "119036    5.0\n",
       "119037    5.0\n",
       "119038    5.0\n",
       "119039    5.0\n",
       "Name: MaxTemp, dtype: float64"
      ]
     },
     "execution_count": 81,
     "metadata": {},
     "output_type": "execute_result"
    }
   ],
   "source": [
    "Max_temp //5"
   ]
  },
  {
   "cell_type": "code",
   "execution_count": 82,
   "metadata": {
    "collapsed": false
   },
   "outputs": [
    {
     "data": {
      "text/plain": [
       "0         0.555556\n",
       "1         3.888889\n",
       "2         1.111111\n",
       "3         1.666667\n",
       "4         1.666667\n",
       "5         1.666667\n",
       "6         3.333333\n",
       "7         1.666667\n",
       "8         2.222222\n",
       "9         0.555556\n",
       "10        0.555556\n",
       "11        4.444444\n",
       "12        1.111111\n",
       "13        1.111111\n",
       "14        0.555556\n",
       "15        1.111111\n",
       "16        3.333333\n",
       "17        1.666667\n",
       "18        2.777778\n",
       "19        1.111111\n",
       "20        4.444444\n",
       "21        4.444444\n",
       "22        1.666667\n",
       "23        2.222222\n",
       "24        2.222222\n",
       "25        0.555556\n",
       "26        0.555556\n",
       "27        1.666667\n",
       "28        1.666667\n",
       "29        2.222222\n",
       "            ...   \n",
       "119010    3.333333\n",
       "119011    2.777778\n",
       "119012    4.444444\n",
       "119013    1.111111\n",
       "119014    2.222222\n",
       "119015    2.222222\n",
       "119016    1.111111\n",
       "119017    0.555556\n",
       "119018    0.000000\n",
       "119019    3.888889\n",
       "119020    0.555556\n",
       "119021    2.222222\n",
       "119022    1.111111\n",
       "119023    0.555556\n",
       "119024    4.444444\n",
       "119025    3.888889\n",
       "119026    0.555556\n",
       "119027    0.555556\n",
       "119028    1.666667\n",
       "119029    3.888889\n",
       "119030    3.888889\n",
       "119031    3.333333\n",
       "119032    3.333333\n",
       "119033    3.888889\n",
       "119034    4.444444\n",
       "119035    3.333333\n",
       "119036    4.444444\n",
       "119037    3.333333\n",
       "119038    3.333333\n",
       "119039    4.444444\n",
       "Name: MaxTemp, dtype: float64"
      ]
     },
     "execution_count": 82,
     "metadata": {},
     "output_type": "execute_result"
    }
   ],
   "source": [
    "Max_temp % 5"
   ]
  },
  {
   "cell_type": "code",
   "execution_count": 85,
   "metadata": {
    "collapsed": false
   },
   "outputs": [
    {
     "data": {
      "text/plain": [
       "0         False\n",
       "1          True\n",
       "2         False\n",
       "3         False\n",
       "4         False\n",
       "5         False\n",
       "6          True\n",
       "7         False\n",
       "8         False\n",
       "9         False\n",
       "10        False\n",
       "11        False\n",
       "12        False\n",
       "13        False\n",
       "14        False\n",
       "15        False\n",
       "16         True\n",
       "17        False\n",
       "18        False\n",
       "19        False\n",
       "20        False\n",
       "21        False\n",
       "22        False\n",
       "23        False\n",
       "24        False\n",
       "25        False\n",
       "26        False\n",
       "27        False\n",
       "28        False\n",
       "29        False\n",
       "          ...  \n",
       "119010     True\n",
       "119011    False\n",
       "119012     True\n",
       "119013    False\n",
       "119014    False\n",
       "119015    False\n",
       "119016    False\n",
       "119017     True\n",
       "119018     True\n",
       "119019     True\n",
       "119020     True\n",
       "119021     True\n",
       "119022     True\n",
       "119023     True\n",
       "119024     True\n",
       "119025     True\n",
       "119026     True\n",
       "119027    False\n",
       "119028    False\n",
       "119029     True\n",
       "119030     True\n",
       "119031     True\n",
       "119032     True\n",
       "119033     True\n",
       "119034     True\n",
       "119035     True\n",
       "119036     True\n",
       "119037     True\n",
       "119038     True\n",
       "119039     True\n",
       "Name: MaxTemp, dtype: bool"
      ]
     },
     "execution_count": 85,
     "metadata": {},
     "output_type": "execute_result"
    }
   ],
   "source": [
    "Max_temp > 28"
   ]
  },
  {
   "cell_type": "code",
   "execution_count": 86,
   "metadata": {
    "collapsed": false
   },
   "outputs": [
    {
     "data": {
      "text/plain": [
       "0         False\n",
       "1         False\n",
       "2         False\n",
       "3         False\n",
       "4         False\n",
       "5         False\n",
       "6         False\n",
       "7         False\n",
       "8         False\n",
       "9         False\n",
       "10        False\n",
       "11        False\n",
       "12        False\n",
       "13        False\n",
       "14        False\n",
       "15        False\n",
       "16        False\n",
       "17        False\n",
       "18        False\n",
       "19        False\n",
       "20        False\n",
       "21        False\n",
       "22        False\n",
       "23        False\n",
       "24        False\n",
       "25        False\n",
       "26        False\n",
       "27        False\n",
       "28        False\n",
       "29        False\n",
       "          ...  \n",
       "119010    False\n",
       "119011    False\n",
       "119012    False\n",
       "119013    False\n",
       "119014    False\n",
       "119015    False\n",
       "119016    False\n",
       "119017    False\n",
       "119018    False\n",
       "119019    False\n",
       "119020    False\n",
       "119021    False\n",
       "119022    False\n",
       "119023    False\n",
       "119024    False\n",
       "119025    False\n",
       "119026    False\n",
       "119027    False\n",
       "119028    False\n",
       "119029    False\n",
       "119030    False\n",
       "119031    False\n",
       "119032    False\n",
       "119033    False\n",
       "119034    False\n",
       "119035    False\n",
       "119036    False\n",
       "119037    False\n",
       "119038    False\n",
       "119039    False\n",
       "Name: MaxTemp, dtype: bool"
      ]
     },
     "execution_count": 86,
     "metadata": {},
     "output_type": "execute_result"
    }
   ],
   "source": [
    "Max_temp == 28"
   ]
  },
  {
   "cell_type": "code",
   "execution_count": 87,
   "metadata": {
    "collapsed": false
   },
   "outputs": [
    {
     "data": {
      "text/plain": [
       "0         31.555556\n",
       "1         34.888889\n",
       "2         32.111111\n",
       "3         32.666667\n",
       "4         32.666667\n",
       "5         32.666667\n",
       "6         34.333333\n",
       "7         32.666667\n",
       "8         33.222222\n",
       "9         31.555556\n",
       "10        31.555556\n",
       "11        30.444444\n",
       "12        32.111111\n",
       "13        32.111111\n",
       "14        31.555556\n",
       "15        32.111111\n",
       "16        34.333333\n",
       "17        32.666667\n",
       "18        33.777778\n",
       "19        32.111111\n",
       "20        30.444444\n",
       "21        30.444444\n",
       "22        32.666667\n",
       "23        33.222222\n",
       "24        33.222222\n",
       "25        31.555556\n",
       "26        31.555556\n",
       "27        32.666667\n",
       "28        32.666667\n",
       "29        33.222222\n",
       "            ...    \n",
       "119010    34.333333\n",
       "119011    33.777778\n",
       "119012    35.444444\n",
       "119013    27.111111\n",
       "119014    33.222222\n",
       "119015    33.222222\n",
       "119016    32.111111\n",
       "119017    36.555556\n",
       "119018    36.000000\n",
       "119019    34.888889\n",
       "119020    36.555556\n",
       "119021    38.222222\n",
       "119022    37.111111\n",
       "119023    36.555556\n",
       "119024    35.444444\n",
       "119025    34.888889\n",
       "119026    36.555556\n",
       "119027    31.555556\n",
       "119028    32.666667\n",
       "119029    34.888889\n",
       "119030    34.888889\n",
       "119031    34.333333\n",
       "119032    34.333333\n",
       "119033    34.888889\n",
       "119034    35.444444\n",
       "119035    34.333333\n",
       "119036    35.444444\n",
       "119037    34.333333\n",
       "119038    34.333333\n",
       "119039    35.444444\n",
       "Name: MaxTemp, dtype: float64"
      ]
     },
     "execution_count": 87,
     "metadata": {},
     "output_type": "execute_result"
    }
   ],
   "source": [
    "# the common operations +,-,*,>,== etc. have the methods e.g\n",
    "\n",
    "Max_temp.add(6) #Max_temp + 6"
   ]
  },
  {
   "cell_type": "code",
   "execution_count": 88,
   "metadata": {
    "collapsed": false
   },
   "outputs": [
    {
     "data": {
      "text/plain": [
       "0         63.888889\n",
       "1         72.222222\n",
       "2         65.277778\n",
       "3         66.666667\n",
       "4         66.666667\n",
       "5         66.666667\n",
       "6         70.833333\n",
       "7         66.666667\n",
       "8         68.055556\n",
       "9         63.888889\n",
       "10        63.888889\n",
       "11        61.111111\n",
       "12        65.277778\n",
       "13        65.277778\n",
       "14        63.888889\n",
       "15        65.277778\n",
       "16        70.833333\n",
       "17        66.666667\n",
       "18        69.444444\n",
       "19        65.277778\n",
       "20        61.111111\n",
       "21        61.111111\n",
       "22        66.666667\n",
       "23        68.055556\n",
       "24        68.055556\n",
       "25        63.888889\n",
       "26        63.888889\n",
       "27        66.666667\n",
       "28        66.666667\n",
       "29        68.055556\n",
       "            ...    \n",
       "119010    70.833333\n",
       "119011    69.444444\n",
       "119012    73.611111\n",
       "119013    52.777778\n",
       "119014    68.055556\n",
       "119015    68.055556\n",
       "119016    65.277778\n",
       "119017    76.388889\n",
       "119018    75.000000\n",
       "119019    72.222222\n",
       "119020    76.388889\n",
       "119021    80.555556\n",
       "119022    77.777778\n",
       "119023    76.388889\n",
       "119024    73.611111\n",
       "119025    72.222222\n",
       "119026    76.388889\n",
       "119027    63.888889\n",
       "119028    66.666667\n",
       "119029    72.222222\n",
       "119030    72.222222\n",
       "119031    70.833333\n",
       "119032    70.833333\n",
       "119033    72.222222\n",
       "119034    73.611111\n",
       "119035    70.833333\n",
       "119036    73.611111\n",
       "119037    70.833333\n",
       "119038    70.833333\n",
       "119039    73.611111\n",
       "Name: MaxTemp, dtype: float64"
      ]
     },
     "execution_count": 88,
     "metadata": {},
     "output_type": "execute_result"
    }
   ],
   "source": [
    "#\n",
    "\n",
    "Max_temp.mul(2.5) # Max_temp*2.5"
   ]
  },
  {
   "cell_type": "code",
   "execution_count": 90,
   "metadata": {
    "collapsed": false
   },
   "outputs": [
    {
     "data": {
      "text/plain": [
       "0         False\n",
       "1         False\n",
       "2         False\n",
       "3         False\n",
       "4         False\n",
       "5         False\n",
       "6         False\n",
       "7         False\n",
       "8         False\n",
       "9         False\n",
       "10        False\n",
       "11        False\n",
       "12        False\n",
       "13        False\n",
       "14        False\n",
       "15        False\n",
       "16        False\n",
       "17        False\n",
       "18        False\n",
       "19        False\n",
       "20        False\n",
       "21        False\n",
       "22        False\n",
       "23        False\n",
       "24        False\n",
       "25        False\n",
       "26        False\n",
       "27        False\n",
       "28        False\n",
       "29        False\n",
       "          ...  \n",
       "119010    False\n",
       "119011    False\n",
       "119012    False\n",
       "119013    False\n",
       "119014    False\n",
       "119015    False\n",
       "119016    False\n",
       "119017    False\n",
       "119018    False\n",
       "119019    False\n",
       "119020    False\n",
       "119021    False\n",
       "119022    False\n",
       "119023    False\n",
       "119024    False\n",
       "119025    False\n",
       "119026    False\n",
       "119027    False\n",
       "119028    False\n",
       "119029    False\n",
       "119030    False\n",
       "119031    False\n",
       "119032    False\n",
       "119033    False\n",
       "119034    False\n",
       "119035    False\n",
       "119036    False\n",
       "119037    False\n",
       "119038    False\n",
       "119039    False\n",
       "Name: MaxTemp, dtype: bool"
      ]
     },
     "execution_count": 90,
     "metadata": {},
     "output_type": "execute_result"
    }
   ],
   "source": [
    "Max_temp.eq(28) # Max_temp == 28"
   ]
  },
  {
   "cell_type": "code",
   "execution_count": 91,
   "metadata": {
    "collapsed": true
   },
   "outputs": [],
   "source": [
    "# special objects 5*3 is actually 5.__mul__(3)"
   ]
  },
  {
   "cell_type": "markdown",
   "metadata": {},
   "source": [
    "# Method chaining with pandas"
   ]
  },
  {
   "cell_type": "code",
   "execution_count": 94,
   "metadata": {
    "collapsed": true
   },
   "outputs": [],
   "source": [
    "snow_fall = weather_data[\"Snowfall\"]"
   ]
  },
  {
   "cell_type": "code",
   "execution_count": 95,
   "metadata": {
    "collapsed": false
   },
   "outputs": [
    {
     "data": {
      "text/plain": [
       "0.0     86090\n",
       "0       29600\n",
       "5.08      527\n",
       "7.62      319\n",
       "Name: Snowfall, dtype: int64"
      ]
     },
     "execution_count": 95,
     "metadata": {},
     "output_type": "execute_result"
    }
   ],
   "source": [
    "snow_fall.value_counts().head(4)"
   ]
  },
  {
   "cell_type": "code",
   "execution_count": 97,
   "metadata": {
    "collapsed": false
   },
   "outputs": [
    {
     "data": {
      "text/plain": [
       "118508"
      ]
     },
     "execution_count": 97,
     "metadata": {},
     "output_type": "execute_result"
    }
   ],
   "source": [
    "wnd_gust_spd = weather_data[\"WindGustSpd\"]\n",
    "\n",
    "wnd_gust_spd.isnull().sum()"
   ]
  },
  {
   "cell_type": "code",
   "execution_count": 99,
   "metadata": {
    "collapsed": false
   },
   "outputs": [
    {
     "data": {
      "text/plain": [
       "532"
      ]
     },
     "execution_count": 99,
     "metadata": {},
     "output_type": "execute_result"
    }
   ],
   "source": [
    "wnd_gust_spd.notnull().sum()"
   ]
  },
  {
   "cell_type": "code",
   "execution_count": null,
   "metadata": {
    "collapsed": true
   },
   "outputs": [],
   "source": [
    "# data set inadequate to reproduce text book formulas"
   ]
  }
 ],
 "metadata": {
  "kernelspec": {
   "display_name": "Python [conda env:Anaconda3a]",
   "language": "python",
   "name": "conda-env-Anaconda3a-py"
  },
  "language_info": {
   "codemirror_mode": {
    "name": "ipython",
    "version": 3
   },
   "file_extension": ".py",
   "mimetype": "text/x-python",
   "name": "python",
   "nbconvert_exporter": "python",
   "pygments_lexer": "ipython3",
   "version": "3.5.2"
  }
 },
 "nbformat": 4,
 "nbformat_minor": 1
}
